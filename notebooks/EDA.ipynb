{
 "cells": [
  {
   "cell_type": "code",
   "execution_count": null,
   "id": "e52d13cb",
   "metadata": {},
   "outputs": [],
   "source": [
    "import pandas as pd\n",
    "import plotly.express as px"
   ]
  },
  {
   "cell_type": "code",
   "execution_count": null,
   "id": "1c6d753d",
   "metadata": {},
   "outputs": [],
   "source": [
    "car_data = pd.read_csv('../vehicles_us.csv') #lendo os dados\n",
    "fig = px.histogram(car_data, x=\"odometer\", y=\"price\") #criar um histograma\n",
    "fig.show() #exibindo"
   ]
  }
 ],
 "metadata": {
  "kernelspec": {
   "display_name": "vehicles_env",
   "language": "python",
   "name": "python3"
  },
  "language_info": {
   "codemirror_mode": {
    "name": "ipython",
    "version": 3
   },
   "file_extension": ".py",
   "mimetype": "text/x-python",
   "name": "python",
   "nbconvert_exporter": "python",
   "pygments_lexer": "ipython3",
   "version": "3.13.5"
  }
 },
 "nbformat": 4,
 "nbformat_minor": 5
}
